{
 "cells": [
  {
   "cell_type": "code",
   "execution_count": 3,
   "metadata": {},
   "outputs": [],
   "source": [
    "import pandas as pd\n",
    "import numpy as np\n",
    "import os \n",
    "from typing import Mapping\n",
    "import json"
   ]
  },
  {
   "cell_type": "code",
   "execution_count": 4,
   "metadata": {},
   "outputs": [
    {
     "data": {
      "text/plain": [
       "['de-DE.jsonl',\n",
       " 'am-ET.jsonl',\n",
       " 'sl-SL.jsonl',\n",
       " 'ko-KR.jsonl',\n",
       " 'sq-AL.jsonl',\n",
       " 'fr-FR.jsonl',\n",
       " 'is-IS.jsonl',\n",
       " 'fi-FI.jsonl',\n",
       " 'it-IT.jsonl',\n",
       " 'sw-KE.jsonl',\n",
       " 'fa-IR.jsonl',\n",
       " 'es-ES.jsonl',\n",
       " 'lv-LV.jsonl',\n",
       " 'km-KH.jsonl',\n",
       " 'ar-SA.jsonl',\n",
       " 'th-TH.jsonl',\n",
       " 'vi-VN.jsonl',\n",
       " 'pl-PL.jsonl',\n",
       " 'jv-ID.jsonl',\n",
       " 'ta-IN.jsonl',\n",
       " 'en-US.jsonl',\n",
       " 'ru-RU.jsonl',\n",
       " 'az-AZ.jsonl',\n",
       " 'af-ZA.jsonl',\n",
       " 'ms-MY.jsonl',\n",
       " 'he-IL.jsonl',\n",
       " 'te-IN.jsonl',\n",
       " 'kn-IN.jsonl',\n",
       " 'hu-HU.jsonl',\n",
       " 'nl-NL.jsonl',\n",
       " 'pt-PT.jsonl',\n",
       " 'ml-IN.jsonl',\n",
       " 'my-MM.jsonl',\n",
       " 'zh-TW.jsonl',\n",
       " 'ur-PK.jsonl',\n",
       " 'nb-NO.jsonl',\n",
       " 'hi-IN.jsonl',\n",
       " 'ja-JP.jsonl',\n",
       " 'ro-RO.jsonl',\n",
       " 'tr-TR.jsonl',\n",
       " 'cy-GB.jsonl',\n",
       " 'mn-MN.jsonl',\n",
       " 'sv-SE.jsonl',\n",
       " 'bn-BD.jsonl',\n",
       " 'ka-GE.jsonl',\n",
       " 'da-DK.jsonl',\n",
       " 'el-GR.jsonl',\n",
       " 'tl-PH.jsonl',\n",
       " 'ca-ES.jsonl',\n",
       " 'hy-AM.jsonl',\n",
       " 'id-ID.jsonl',\n",
       " 'zh-CN.jsonl']"
      ]
     },
     "execution_count": 4,
     "metadata": {},
     "output_type": "execute_result"
    }
   ],
   "source": [
    "dataset_dir = './massive-dataset/1.1/data'\n",
    "files = os.listdir(dataset_dir)\n",
    "files"
   ]
  },
  {
   "cell_type": "code",
   "execution_count": 5,
   "metadata": {},
   "outputs": [
    {
     "data": {
      "text/html": [
       "<div>\n",
       "<style scoped>\n",
       "    .dataframe tbody tr th:only-of-type {\n",
       "        vertical-align: middle;\n",
       "    }\n",
       "\n",
       "    .dataframe tbody tr th {\n",
       "        vertical-align: top;\n",
       "    }\n",
       "\n",
       "    .dataframe thead th {\n",
       "        text-align: right;\n",
       "    }\n",
       "</style>\n",
       "<table border=\"1\" class=\"dataframe\">\n",
       "  <thead>\n",
       "    <tr style=\"text-align: right;\">\n",
       "      <th></th>\n",
       "      <th>id</th>\n",
       "      <th>locale</th>\n",
       "      <th>partition</th>\n",
       "      <th>scenario</th>\n",
       "      <th>intent</th>\n",
       "      <th>utt</th>\n",
       "      <th>annot_utt</th>\n",
       "      <th>worker_id</th>\n",
       "    </tr>\n",
       "  </thead>\n",
       "  <tbody>\n",
       "    <tr>\n",
       "      <th>0</th>\n",
       "      <td>0</td>\n",
       "      <td>en-US</td>\n",
       "      <td>test</td>\n",
       "      <td>alarm</td>\n",
       "      <td>alarm_set</td>\n",
       "      <td>wake me up at five am this week</td>\n",
       "      <td>wake me up at [time : five am] [date : this week]</td>\n",
       "      <td>1</td>\n",
       "    </tr>\n",
       "    <tr>\n",
       "      <th>1</th>\n",
       "      <td>1</td>\n",
       "      <td>en-US</td>\n",
       "      <td>train</td>\n",
       "      <td>alarm</td>\n",
       "      <td>alarm_set</td>\n",
       "      <td>wake me up at nine am on friday</td>\n",
       "      <td>wake me up at [time : nine am] on [date : friday]</td>\n",
       "      <td>1</td>\n",
       "    </tr>\n",
       "    <tr>\n",
       "      <th>2</th>\n",
       "      <td>2</td>\n",
       "      <td>en-US</td>\n",
       "      <td>train</td>\n",
       "      <td>alarm</td>\n",
       "      <td>alarm_set</td>\n",
       "      <td>set an alarm for two hours from now</td>\n",
       "      <td>set an alarm for [time : two hours from now]</td>\n",
       "      <td>1</td>\n",
       "    </tr>\n",
       "    <tr>\n",
       "      <th>3</th>\n",
       "      <td>3</td>\n",
       "      <td>en-US</td>\n",
       "      <td>test</td>\n",
       "      <td>audio</td>\n",
       "      <td>audio_volume_mute</td>\n",
       "      <td>quiet</td>\n",
       "      <td>quiet</td>\n",
       "      <td>1</td>\n",
       "    </tr>\n",
       "    <tr>\n",
       "      <th>4</th>\n",
       "      <td>4</td>\n",
       "      <td>en-US</td>\n",
       "      <td>train</td>\n",
       "      <td>audio</td>\n",
       "      <td>audio_volume_mute</td>\n",
       "      <td>olly quiet</td>\n",
       "      <td>olly quiet</td>\n",
       "      <td>1</td>\n",
       "    </tr>\n",
       "    <tr>\n",
       "      <th>...</th>\n",
       "      <td>...</td>\n",
       "      <td>...</td>\n",
       "      <td>...</td>\n",
       "      <td>...</td>\n",
       "      <td>...</td>\n",
       "      <td>...</td>\n",
       "      <td>...</td>\n",
       "      <td>...</td>\n",
       "    </tr>\n",
       "    <tr>\n",
       "      <th>16516</th>\n",
       "      <td>17176</td>\n",
       "      <td>en-US</td>\n",
       "      <td>train</td>\n",
       "      <td>email</td>\n",
       "      <td>email_query</td>\n",
       "      <td>do i have emails</td>\n",
       "      <td>do i have emails</td>\n",
       "      <td>12</td>\n",
       "    </tr>\n",
       "    <tr>\n",
       "      <th>16517</th>\n",
       "      <td>17177</td>\n",
       "      <td>en-US</td>\n",
       "      <td>train</td>\n",
       "      <td>email</td>\n",
       "      <td>email_query</td>\n",
       "      <td>what emails are new</td>\n",
       "      <td>what emails are new</td>\n",
       "      <td>12</td>\n",
       "    </tr>\n",
       "    <tr>\n",
       "      <th>16518</th>\n",
       "      <td>17178</td>\n",
       "      <td>en-US</td>\n",
       "      <td>train</td>\n",
       "      <td>email</td>\n",
       "      <td>email_query</td>\n",
       "      <td>do i have new emails from john</td>\n",
       "      <td>do i have new emails from [person : john]</td>\n",
       "      <td>12</td>\n",
       "    </tr>\n",
       "    <tr>\n",
       "      <th>16519</th>\n",
       "      <td>17179</td>\n",
       "      <td>en-US</td>\n",
       "      <td>test</td>\n",
       "      <td>email</td>\n",
       "      <td>email_query</td>\n",
       "      <td>has john sent me an email</td>\n",
       "      <td>has [person : john] sent me an email</td>\n",
       "      <td>12</td>\n",
       "    </tr>\n",
       "    <tr>\n",
       "      <th>16520</th>\n",
       "      <td>17180</td>\n",
       "      <td>en-US</td>\n",
       "      <td>train</td>\n",
       "      <td>email</td>\n",
       "      <td>email_query</td>\n",
       "      <td>check email from john</td>\n",
       "      <td>check email from [person : john]</td>\n",
       "      <td>12</td>\n",
       "    </tr>\n",
       "  </tbody>\n",
       "</table>\n",
       "<p>16521 rows × 8 columns</p>\n",
       "</div>"
      ],
      "text/plain": [
       "          id locale partition scenario             intent  \\\n",
       "0          0  en-US      test    alarm          alarm_set   \n",
       "1          1  en-US     train    alarm          alarm_set   \n",
       "2          2  en-US     train    alarm          alarm_set   \n",
       "3          3  en-US      test    audio  audio_volume_mute   \n",
       "4          4  en-US     train    audio  audio_volume_mute   \n",
       "...      ...    ...       ...      ...                ...   \n",
       "16516  17176  en-US     train    email        email_query   \n",
       "16517  17177  en-US     train    email        email_query   \n",
       "16518  17178  en-US     train    email        email_query   \n",
       "16519  17179  en-US      test    email        email_query   \n",
       "16520  17180  en-US     train    email        email_query   \n",
       "\n",
       "                                       utt  \\\n",
       "0          wake me up at five am this week   \n",
       "1          wake me up at nine am on friday   \n",
       "2      set an alarm for two hours from now   \n",
       "3                                    quiet   \n",
       "4                               olly quiet   \n",
       "...                                    ...   \n",
       "16516                     do i have emails   \n",
       "16517                  what emails are new   \n",
       "16518       do i have new emails from john   \n",
       "16519            has john sent me an email   \n",
       "16520                check email from john   \n",
       "\n",
       "                                               annot_utt  worker_id  \n",
       "0      wake me up at [time : five am] [date : this week]          1  \n",
       "1      wake me up at [time : nine am] on [date : friday]          1  \n",
       "2           set an alarm for [time : two hours from now]          1  \n",
       "3                                                  quiet          1  \n",
       "4                                             olly quiet          1  \n",
       "...                                                  ...        ...  \n",
       "16516                                   do i have emails         12  \n",
       "16517                                what emails are new         12  \n",
       "16518          do i have new emails from [person : john]         12  \n",
       "16519               has [person : john] sent me an email         12  \n",
       "16520                   check email from [person : john]         12  \n",
       "\n",
       "[16521 rows x 8 columns]"
      ]
     },
     "execution_count": 5,
     "metadata": {},
     "output_type": "execute_result"
    }
   ],
   "source": [
    "english_json = pd.read_json(f\"{dataset_dir}/en-US.jsonl\",lines=True)\n",
    "english_json"
   ]
  },
  {
   "cell_type": "code",
   "execution_count": 6,
   "metadata": {},
   "outputs": [],
   "source": [
    "def build_file_path(file_name: str)->str:\n",
    "    return f\"{dataset_dir}/{file_name}\""
   ]
  },
  {
   "cell_type": "code",
   "execution_count": 7,
   "metadata": {},
   "outputs": [],
   "source": [
    "def language_df(file_name:str) -> pd.DataFrame:\n",
    "    df = pd.read_json(build_file_path(file_name),lines=True)\n",
    "    return df\n"
   ]
  },
  {
   "cell_type": "code",
   "execution_count": 8,
   "metadata": {},
   "outputs": [],
   "source": [
    "def get_lang(file_name:str)->str:\n",
    "    return file_name.split('-')[1].split('.')[0]"
   ]
  },
  {
   "cell_type": "code",
   "execution_count": 19,
   "metadata": {},
   "outputs": [],
   "source": [
    "for file_path in files:\n",
    "    df = language_df(file_path)\n",
    "    df = df.merge(english_json, on=\"id\")\n",
    "    \n",
    "    df = df.rename(\n",
    "        {\n",
    "            \"utt_x\": \"utterance_translation\",\n",
    "            \"annot_utt_x\": \"annotation_utterance_translation\",\n",
    "            \"utt_y\": \"utterance\",\n",
    "            \"annot_utt_y\": \"annot_utt\",\n",
    "            \"partition_y\": \"partition\"\n",
    "        },axis=1\n",
    "    )\n",
    "    df = df[[\"utterance_translation\", \"annotation_utterance_translation\", \"utterance\", \"annot_utt\",\"id\",\"partition\"]]\n",
    "    \n",
    "    df.to_excel(f'./processed-dataset/en-{get_lang(file_path)}.xlsx')\n",
    "\n"
   ]
  },
  {
   "cell_type": "code",
   "execution_count": null,
   "metadata": {},
   "outputs": [],
   "source": []
  },
  {
   "cell_type": "markdown",
   "metadata": {},
   "source": [
    "### Question 2"
   ]
  },
  {
   "cell_type": "code",
   "execution_count": 10,
   "metadata": {},
   "outputs": [],
   "source": [
    "english_df = language_df('en-US.jsonl')\n",
    "kiswahili_df = language_df('sw-KE.jsonl')\n",
    "german_df = language_df('de-DE.jsonl')"
   ]
  },
  {
   "cell_type": "code",
   "execution_count": 11,
   "metadata": {},
   "outputs": [],
   "source": [
    "def separate_dfs(df:pd.DataFrame,key:str) -> pd.DataFrame:\n",
    "    return  df[df['partition']==key]\n"
   ]
  },
  {
   "cell_type": "code",
   "execution_count": 12,
   "metadata": {},
   "outputs": [],
   "source": [
    "def export_as_jsonl(df:pd.DataFrame,name:str):\n",
    "    df.to_json(f'./partitioned-datasets/{name}.jsonl',lines=True,orient='records')\n",
    " \n",
    "\n"
   ]
  },
  {
   "cell_type": "code",
   "execution_count": 13,
   "metadata": {},
   "outputs": [],
   "source": [
    "partitions = ['dev','train','test']\n",
    "dfs = [english_df,kiswahili_df,german_df]\n",
    "dfs_names = ['english','kiswahili','german']\n",
    "\n",
    "for df,name in zip(dfs,dfs_names):\n",
    "    for partition in partitions:\n",
    "        export_as_jsonl(separate_dfs(df,partition),f'{name}-{partition}')"
   ]
  },
  {
   "cell_type": "code",
   "execution_count": 23,
   "metadata": {},
   "outputs": [
    {
     "name": "stdout",
     "output_type": "stream",
     "text": [
      "['en-SE.xlsx', 'en-HU.xlsx', 'en-IR.xlsx', 'en-MY.xlsx', 'en-ZA.xlsx', 'en-MN.xlsx', 'en-JP.xlsx', 'en-LV.xlsx', 'en-US.xlsx', 'en-RU.xlsx', 'en-BD.xlsx', 'en-KH.xlsx', 'en-FR.xlsx', 'en-ET.xlsx', 'en-SA.xlsx', 'en-DE.csv', 'en-TH.xlsx', 'en-IL.xlsx', 'en-TW.xlsx', 'en-RO.xlsx', 'en-NL.xlsx', 'en-KR.xlsx', 'en-GB.xlsx', 'en-GR.xlsx', 'en-PL.xlsx', 'en-ID.xlsx', 'en-MM.xlsx', 'DE.xlsx', 'en-AL.xlsx', 'en-IT.xlsx', 'en-ES.xlsx', 'en-VN.xlsx', 'en-KE.xlsx', 'en-AM.xlsx', 'en-SL.xlsx', 'en-NO.xlsx', 'en-IS.xlsx', 'en-FI.xlsx', 'en-CN.xlsx', 'en-IN.xlsx', 'en-GE.xlsx', 'en-DK.xlsx', 'en-AZ.xlsx', 'en-PK.xlsx', 'en-PT.xlsx', 'en-DE.xlsx', 'en-TR.xlsx', 'en-PH.xlsx']\n"
     ]
    }
   ],
   "source": [
    "processed_dir_path = './processed-dataset'\n",
    "files_english = os.listdir(processed_dir_path)\n",
    "print(files_english)"
   ]
  },
  {
   "cell_type": "code",
   "execution_count": null,
   "metadata": {},
   "outputs": [],
   "source": [
    "def df_to_json(df:pd.DataFrame) -> Mapping:\n",
    "    return df.to_dict()"
   ]
  },
  {
   "cell_type": "code",
   "execution_count": 25,
   "metadata": {},
   "outputs": [],
   "source": [
    "def export_to_json(name:str,data:list[dict]):\n",
    "    with open(f\"{name}.json\", \"w\") as outfile:\n",
    "        json.dump(data, outfile)"
   ]
  },
  {
   "cell_type": "code",
   "execution_count": 30,
   "metadata": {},
   "outputs": [
    {
     "name": "stdout",
     "output_type": "stream",
     "text": [
      "./processed-dataset/en-SE.xlsx\n",
      "   id                  utterance_translation\n",
      "1   1             väck mig vid nio på fredag\n",
      "2   2  sätt ett alarm för två timmar från nu\n",
      "4   4                              olly tyst\n",
      "5   5                                  sluta\n",
      "6   6              olly pausa i tio sekunder\n"
     ]
    }
   ],
   "source": [
    "\n",
    "result = []\n",
    "for file in files_english:\n",
    "    try:\n",
    "        file_path = f\"{processed_dir_path}/{file}\"\n",
    "        df = pd.read_excel(file_path)\n",
    "        df = separate_dfs(df,'train')\n",
    "        df = df[['id','utterance_translation',]]\n",
    "        result.append(df.to_dict())\n",
    "    except:\n",
    "        pass\n",
    "\n"
   ]
  },
  {
   "cell_type": "code",
   "execution_count": 27,
   "metadata": {},
   "outputs": [],
   "source": [
    "export_to_json('combined',result)"
   ]
  }
 ],
 "metadata": {
  "kernelspec": {
   "display_name": ".computer-graphics",
   "language": "python",
   "name": "python3"
  },
  "language_info": {
   "codemirror_mode": {
    "name": "ipython",
    "version": 3
   },
   "file_extension": ".py",
   "mimetype": "text/x-python",
   "name": "python",
   "nbconvert_exporter": "python",
   "pygments_lexer": "ipython3",
   "version": "3.11.5"
  },
  "orig_nbformat": 4
 },
 "nbformat": 4,
 "nbformat_minor": 2
}
